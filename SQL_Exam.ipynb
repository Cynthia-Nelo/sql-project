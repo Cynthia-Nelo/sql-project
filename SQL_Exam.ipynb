{
 "cells": [
  {
   "cell_type": "markdown",
   "id": "f662d169",
   "metadata": {},
   "source": [
    "# SQL Exam\n"
   ]
  },
  {
   "cell_type": "markdown",
   "id": "26af890c",
   "metadata": {},
   "source": [
    "## Instructions to students\n",
    "\n",
    "This challenge is designed to determine how much you have learned so far and will test your knowledge on SQL.\n",
    "\n",
    "The answers for this challenge should be selected on Athena for each corresponding multiple-choice question. The questions are included in this notebook and are numbered according to the Athena questions. The options for each question have also been included.\n",
    "\n",
    "Do not add or remove cells in this notebook. Do not edit or remove the `%%sql` comment as it is required to run each cell.\n",
    "\n",
    "**_Good luck!_**"
   ]
  },
  {
   "cell_type": "markdown",
   "id": "092d3f5e",
   "metadata": {},
   "source": [
    "## Honour code\n",
    "\n",
    "I, Cynthia Nwankwo Amakeze, confirm – by submitting this document – that the solutions in this notebook are a result of my own work and that I abide by the EDSA honour code \n"
   ]
  },
  {
   "cell_type": "markdown",
   "id": "b6bdd20c",
   "metadata": {
    "jp-MarkdownHeadingCollapsed": true
   },
   "source": [
    "## The TMDb database\n",
    "\n",
    "In this supplementary exam, you will be exploring [The Movie Database](https://www.themoviedb.org/) – an online movie and TV show database that houses some of the most popular movies and TV shows at your fingertips. The TMDb database supports 39 official languages used in over 180 countries daily and dates back all the way to 2008. \n",
    "\n",
    "\n",
    "<img src=\"https://github.com/Explore-AI/Pictures/blob/master/sql_tmdb.jpg?raw=true\" width=80%/>\n",
    "\n",
    "\n",
    "Below is an Entity Relationship Diagram (ERD) of the TMDb database:\n",
    "\n",
    "<img src=\"https://github.com/Explore-AI/Pictures/blob/master/TMDB_ER_diagram.png?raw=true\" width=70%/>\n",
    "\n",
    "As can be seen from the ERD, the TMDb database consists of `12 tables` containing information about movies, cast, genre, and so much more.  \n",
    "\n",
    "Let's get started!"
   ]
  },
  {
   "cell_type": "markdown",
   "id": "5a0b7683",
   "metadata": {
    "tags": []
   },
   "source": [
    "## Loading the database\n",
    "\n",
    "Before you begin, you need to prepare your SQL environment.  You can do this by loading the magic command `%load_ext sql`."
   ]
  },
  {
   "cell_type": "code",
   "execution_count": 1,
   "id": "0f34ea72",
   "metadata": {},
   "outputs": [],
   "source": [
    "# Load and activate the SQL extension to allow us to execute SQL in a Jupyter notebook. \n",
    "# If you get an error here, make sure that mysql and pymysql are installed correctly. \n",
    "\n",
    "%load_ext sql"
   ]
  },
  {
   "cell_type": "markdown",
   "id": "3f78b691",
   "metadata": {},
   "source": [
    "Next, go ahead and load your database. To do this, you will need to ensure you have downloaded the `TMDB.db` sqlite file from Athena and have stored it in a known location."
   ]
  },
  {
   "cell_type": "code",
   "execution_count": 2,
   "id": "d279a04d",
   "metadata": {},
   "outputs": [
    {
     "data": {
      "text/plain": [
       "'Connected: @TMDB.db'"
      ]
     },
     "execution_count": 2,
     "metadata": {},
     "output_type": "execute_result"
    }
   ],
   "source": [
    "# Establish a connection to the local database using the '%sql' magic command.\n",
    "# Replace 'password' with our connection password and `db_name` with our database name. \n",
    "# If you get an error here, please make sure the database name or password is correct.\n",
    "\n",
    "%sql sqlite:///TMDB.db"
   ]
  },
  {
   "cell_type": "markdown",
   "id": "6f8bbc0b-c31c-4274-ad13-399a9182a260",
   "metadata": {},
   "source": [
    "If the above line didn't throw out any errors, then you should be good to go. Good luck with the exam! "
   ]
  },
  {
   "cell_type": "markdown",
   "id": "f5ed5285",
   "metadata": {},
   "source": [
    "## Questions on SQL\n",
    "\n",
    "Use the given cell below each question to execute your SQL queries to find the correct input from the options provided. Your solution should match one of the multiple-choice questions on Athena."
   ]
  },
  {
   "cell_type": "markdown",
   "id": "86802726",
   "metadata": {},
   "source": [
    "### Question 1\n",
    "\n",
    "Who won the Oscar for “Actor in a Leading Role” in  2015?\n",
    "\n",
    "(Hint: The winner is indicated as '1.0'.)\n",
    "\n",
    "**Options:** \n",
    "\n",
    "  - Micheal Fassbender\n",
    "  - Natalie Portman\n",
    "  - Leonardo DiCaprio\n",
    "  - Eddie Redmayne\n"
   ]
  },
  {
   "cell_type": "code",
   "execution_count": 3,
   "id": "bc49b631-6989-4429-9156-286018ec5724",
   "metadata": {},
   "outputs": [
    {
     "name": "stdout",
     "output_type": "stream",
     "text": [
      " * sqlite:///TMDB.db\n",
      "Done.\n"
     ]
    },
    {
     "data": {
      "text/html": [
       "<table>\n",
       "    <thead>\n",
       "        <tr>\n",
       "            <th>name</th>\n",
       "        </tr>\n",
       "    </thead>\n",
       "    <tbody>\n",
       "        <tr>\n",
       "            <td>Leonardo DiCaprio</td>\n",
       "        </tr>\n",
       "    </tbody>\n",
       "</table>"
      ],
      "text/plain": [
       "[('Leonardo DiCaprio',)]"
      ]
     },
     "execution_count": 3,
     "metadata": {},
     "output_type": "execute_result"
    }
   ],
   "source": [
    "%%sql\n",
    "\n",
    "SELECT name\n",
    "FROM oscars\n",
    "WHERE award = 'Actor in a Leading Role'\n",
    "AND winner = 1.0 \n",
    "AND year = 2015;"
   ]
  },
  {
   "cell_type": "markdown",
   "id": "9545206c",
   "metadata": {},
   "source": [
    "### Question 2\n",
    "\n",
    "What query will produce the ten oldest movies in the database?\n",
    "\n",
    "**Options:**\n",
    "\n",
    " - SELECT TOP(10) * FROM movies WHERE release_date ORDER BY release_date ASC\n",
    "\n",
    " - SELECT  * FROM movies WHERE release_date IS NOT NULL ORDER BY release_date ASC LIMIT 10\n",
    "\n",
    " - SELECT * FROM movies WHERE release_date IS NOT NULL ORDER BY release_date DESC LIMIT 10\n",
    "\n",
    " -  SELECT * FROM movies WHERE release_date IS NULL ORDER BY release_date DESC LIMIT 10"
   ]
  },
  {
   "cell_type": "code",
   "execution_count": 4,
   "id": "748f4263",
   "metadata": {},
   "outputs": [
    {
     "name": "stdout",
     "output_type": "stream",
     "text": [
      " * sqlite:///TMDB.db\n",
      "Done.\n"
     ]
    },
    {
     "data": {
      "text/html": [
       "<table>\n",
       "    <thead>\n",
       "        <tr>\n",
       "            <th>movie_id</th>\n",
       "            <th>title</th>\n",
       "            <th>release_date</th>\n",
       "            <th>budget</th>\n",
       "            <th>homepage</th>\n",
       "            <th>original_language</th>\n",
       "            <th>original_title</th>\n",
       "            <th>overview</th>\n",
       "            <th>popularity</th>\n",
       "            <th>revenue</th>\n",
       "            <th>runtime</th>\n",
       "            <th>release_status</th>\n",
       "            <th>tagline</th>\n",
       "            <th>vote_average</th>\n",
       "            <th>vote_count</th>\n",
       "        </tr>\n",
       "    </thead>\n",
       "    <tbody>\n",
       "        <tr>\n",
       "            <td>426469</td>\n",
       "            <td>Growing Up Smith</td>\n",
       "            <td>2017-02-03 00:00:00.000000</td>\n",
       "            <td>0</td>\n",
       "            <td>http://www.growingupsmithmovie.com</td>\n",
       "            <td>en</td>\n",
       "            <td>Growing Up Smith</td>\n",
       "            <td>&quot;In 1979, an Indian family moves to America with hopes of living the American Dream. While their 10-year-old boy Smith falls head-over-heels for the girl next door, his desire to become a &quot;&quot;good old boy&quot;&quot; propels him further away from his family&#x27;s ideals than ever before.&quot;</td>\n",
       "            <td>0.71087</td>\n",
       "            <td>0.0</td>\n",
       "            <td>102.0</td>\n",
       "            <td>Released</td>\n",
       "            <td>ItÆs better to stand out than to fit in.</td>\n",
       "            <td>7.4</td>\n",
       "            <td>7</td>\n",
       "        </tr>\n",
       "        <tr>\n",
       "            <td>325373</td>\n",
       "            <td>Two Lovers and a Bear</td>\n",
       "            <td>2016-10-02 00:00:00.000000</td>\n",
       "            <td>0</td>\n",
       "            <td>None</td>\n",
       "            <td>en</td>\n",
       "            <td>Two Lovers and a Bear</td>\n",
       "            <td>Set in a small town near the North Pole where roads lead to nowhere, the story follows Roman and Lucy, two burning souls who come together to make a leap for life and inner peace.</td>\n",
       "            <td>3.139294</td>\n",
       "            <td>0.0</td>\n",
       "            <td>96.0</td>\n",
       "            <td>Released</td>\n",
       "            <td>None</td>\n",
       "            <td>6.8</td>\n",
       "            <td>27</td>\n",
       "        </tr>\n",
       "        <tr>\n",
       "            <td>374461</td>\n",
       "            <td>Mr. Church</td>\n",
       "            <td>2016-09-16 00:00:00.000000</td>\n",
       "            <td>8000000</td>\n",
       "            <td>None</td>\n",
       "            <td>en</td>\n",
       "            <td>Mr. Church</td>\n",
       "            <td>A unique friendship develops when a little girl and her dying mother inherit a cook - Mr. Church. What begins as an arrangement that should only last six months, instead spans fifteen years.</td>\n",
       "            <td>7.828459</td>\n",
       "            <td>0.0</td>\n",
       "            <td>104.0</td>\n",
       "            <td>Released</td>\n",
       "            <td>He was the one person she could always count on.</td>\n",
       "            <td>7.0</td>\n",
       "            <td>129</td>\n",
       "        </tr>\n",
       "        <tr>\n",
       "            <td>339408</td>\n",
       "            <td>The Birth of a Nation</td>\n",
       "            <td>2016-09-09 00:00:00.000000</td>\n",
       "            <td>8500000</td>\n",
       "            <td>http://www.foxsearchlight.com/thebirthofanation/</td>\n",
       "            <td>en</td>\n",
       "            <td>The Birth of a Nation</td>\n",
       "            <td>Nat Turner, a former slave in America, leads a liberation movement in 1831 to free African-Americans in Virgina that results in a violent retaliation from whites.</td>\n",
       "            <td>9.452808</td>\n",
       "            <td>15861566.0</td>\n",
       "            <td>120.0</td>\n",
       "            <td>Released</td>\n",
       "            <td>The Untold Story of Nat Turner</td>\n",
       "            <td>6.5</td>\n",
       "            <td>178</td>\n",
       "        </tr>\n",
       "        <tr>\n",
       "            <td>385736</td>\n",
       "            <td>Kicks</td>\n",
       "            <td>2016-09-09 00:00:00.000000</td>\n",
       "            <td>0</td>\n",
       "            <td>http://www.focusfeatures.com/kicks</td>\n",
       "            <td>en</td>\n",
       "            <td>Kicks</td>\n",
       "            <td>When his hard-earned kicks get snatched by a local hood, fifteen-year old Brandon and his two best friends go on an ill-advised mission across the Bay Area to retrieve the stolen sneakers.</td>\n",
       "            <td>3.467923</td>\n",
       "            <td>0.0</td>\n",
       "            <td>80.0</td>\n",
       "            <td>Released</td>\n",
       "            <td>They aren&#x27;t just shoes</td>\n",
       "            <td>7.5</td>\n",
       "            <td>18</td>\n",
       "        </tr>\n",
       "        <tr>\n",
       "            <td>332285</td>\n",
       "            <td>Antibirth</td>\n",
       "            <td>2016-09-02 00:00:00.000000</td>\n",
       "            <td>35000000</td>\n",
       "            <td>None</td>\n",
       "            <td>en</td>\n",
       "            <td>Antibirth</td>\n",
       "            <td>In a desolate community full of drug-addled Marines and rumors of kidnapping, a wild-eyed stoner named Lou wakes up after a crazy night of partying with symptoms of a strange illness and recurring visions. As she struggles to get a grip on reality, the stories of conspiracy spread.</td>\n",
       "            <td>3.674294</td>\n",
       "            <td>0.0</td>\n",
       "            <td>94.0</td>\n",
       "            <td>Released</td>\n",
       "            <td>None</td>\n",
       "            <td>4.8</td>\n",
       "            <td>40</td>\n",
       "        </tr>\n",
       "        <tr>\n",
       "            <td>184341</td>\n",
       "            <td>Hands of Stone</td>\n",
       "            <td>2016-08-26 00:00:00.000000</td>\n",
       "            <td>20000000</td>\n",
       "            <td>None</td>\n",
       "            <td>en</td>\n",
       "            <td>Hands of Stone</td>\n",
       "            <td>The legendary Roberto Duran and his equally legendary trainer Ray Arcel change each other&#x27;s lives.</td>\n",
       "            <td>7.444189</td>\n",
       "            <td>0.0</td>\n",
       "            <td>105.0</td>\n",
       "            <td>Released</td>\n",
       "            <td>No mßs. No surrender.</td>\n",
       "            <td>6.1</td>\n",
       "            <td>109</td>\n",
       "        </tr>\n",
       "        <tr>\n",
       "            <td>271969</td>\n",
       "            <td>Ben-Hur</td>\n",
       "            <td>2016-08-17 00:00:00.000000</td>\n",
       "            <td>100000000</td>\n",
       "            <td>http://www.benhurmovie.com/</td>\n",
       "            <td>en</td>\n",
       "            <td>Ben-Hur</td>\n",
       "            <td>A falsely accused nobleman survives years of slavery to take vengeance on his best friend who betrayed him.</td>\n",
       "            <td>29.608322</td>\n",
       "            <td>94061311.0</td>\n",
       "            <td>125.0</td>\n",
       "            <td>Released</td>\n",
       "            <td>First to finish. Last to die.</td>\n",
       "            <td>5.3</td>\n",
       "            <td>621</td>\n",
       "        </tr>\n",
       "        <tr>\n",
       "            <td>294272</td>\n",
       "            <td>Pete&#x27;s Dragon</td>\n",
       "            <td>2016-08-10 00:00:00.000000</td>\n",
       "            <td>65000000</td>\n",
       "            <td>http://movies.disney.com/petes-dragon-2016</td>\n",
       "            <td>en</td>\n",
       "            <td>Pete&#x27;s Dragon</td>\n",
       "            <td>Pete is a mysterious 10-year-old with no family and no home who claims to live in the woods with a giant, green dragon named Elliott. With the help of Natalie, an 11-year-old girl whose father Jack owns the local lumber mill, forest ranger Grace sets out to determine where Pete came from, where he belongs, and the truth about this dragon.</td>\n",
       "            <td>31.974359</td>\n",
       "            <td>143695338.0</td>\n",
       "            <td>102.0</td>\n",
       "            <td>Released</td>\n",
       "            <td>Some secrets are too big to keep.</td>\n",
       "            <td>6.2</td>\n",
       "            <td>679</td>\n",
       "        </tr>\n",
       "        <tr>\n",
       "            <td>297761</td>\n",
       "            <td>Suicide Squad</td>\n",
       "            <td>2016-08-02 00:00:00.000000</td>\n",
       "            <td>175000000</td>\n",
       "            <td>http://www.suicidesquad.com/</td>\n",
       "            <td>en</td>\n",
       "            <td>Suicide Squad</td>\n",
       "            <td>From DC Comics comes the Suicide Squad, an antihero team of incarcerated supervillains who act as deniable assets for the United States government, undertaking high-risk black ops missions in exchange for commuted prison sentences.</td>\n",
       "            <td>90.23792</td>\n",
       "            <td>745000000.0</td>\n",
       "            <td>123.0</td>\n",
       "            <td>Released</td>\n",
       "            <td>Worst Heroes Ever</td>\n",
       "            <td>5.9</td>\n",
       "            <td>7458</td>\n",
       "        </tr>\n",
       "    </tbody>\n",
       "</table>"
      ],
      "text/plain": [
       "[(426469, 'Growing Up Smith', '2017-02-03 00:00:00.000000', 0, 'http://www.growingupsmithmovie.com', 'en', 'Growing Up Smith', '\"In 1979, an Indian family moves to America with hopes of living the American Dream. While their 10-year-old boy Smith falls head-over-heels for the girl next door, his desire to become a \"\"good old boy\"\" propels him further away from his family\\'s ideals than ever before.\"', 0.71087, 0.0, 102.0, 'Released', 'ItÆs better to stand out than to fit in.', 7.4, 7),\n",
       " (325373, 'Two Lovers and a Bear', '2016-10-02 00:00:00.000000', 0, None, 'en', 'Two Lovers and a Bear', 'Set in a small town near the North Pole where roads lead to nowhere, the story follows Roman and Lucy, two burning souls who come together to make a leap for life and inner peace.', 3.139294, 0.0, 96.0, 'Released', None, 6.8, 27),\n",
       " (374461, 'Mr. Church', '2016-09-16 00:00:00.000000', 8000000, None, 'en', 'Mr. Church', 'A unique friendship develops when a little girl and her dying mother inherit a cook - Mr. Church. What begins as an arrangement that should only last six months, instead spans fifteen years.', 7.828459, 0.0, 104.0, 'Released', 'He was the one person she could always count on.', 7.0, 129),\n",
       " (339408, 'The Birth of a Nation', '2016-09-09 00:00:00.000000', 8500000, 'http://www.foxsearchlight.com/thebirthofanation/', 'en', 'The Birth of a Nation', 'Nat Turner, a former slave in America, leads a liberation movement in 1831 to free African-Americans in Virgina that results in a violent retaliation from whites.', 9.452808, 15861566.0, 120.0, 'Released', 'The Untold Story of Nat Turner', 6.5, 178),\n",
       " (385736, 'Kicks', '2016-09-09 00:00:00.000000', 0, 'http://www.focusfeatures.com/kicks', 'en', 'Kicks', 'When his hard-earned kicks get snatched by a local hood, fifteen-year old Brandon and his two best friends go on an ill-advised mission across the Bay Area to retrieve the stolen sneakers.', 3.467923, 0.0, 80.0, 'Released', \"They aren't just shoes\", 7.5, 18),\n",
       " (332285, 'Antibirth', '2016-09-02 00:00:00.000000', 35000000, None, 'en', 'Antibirth', 'In a desolate community full of drug-addled Marines and rumors of kidnapping, a wild-eyed stoner named Lou wakes up after a crazy night of partying with symptoms of a strange illness and recurring visions. As she struggles to get a grip on reality, the stories of conspiracy spread.', 3.674294, 0.0, 94.0, 'Released', None, 4.8, 40),\n",
       " (184341, 'Hands of Stone', '2016-08-26 00:00:00.000000', 20000000, None, 'en', 'Hands of Stone', \"The legendary Roberto Duran and his equally legendary trainer Ray Arcel change each other's lives.\", 7.444189, 0.0, 105.0, 'Released', 'No mßs. No surrender.', 6.1, 109),\n",
       " (271969, 'Ben-Hur', '2016-08-17 00:00:00.000000', 100000000, 'http://www.benhurmovie.com/', 'en', 'Ben-Hur', 'A falsely accused nobleman survives years of slavery to take vengeance on his best friend who betrayed him.', 29.608322, 94061311.0, 125.0, 'Released', 'First to finish. Last to die.', 5.3, 621),\n",
       " (294272, \"Pete's Dragon\", '2016-08-10 00:00:00.000000', 65000000, 'http://movies.disney.com/petes-dragon-2016', 'en', \"Pete's Dragon\", 'Pete is a mysterious 10-year-old with no family and no home who claims to live in the woods with a giant, green dragon named Elliott. With the help o ... (42 characters truncated) ... r Jack owns the local lumber mill, forest ranger Grace sets out to determine where Pete came from, where he belongs, and the truth about this dragon.', 31.974359, 143695338.0, 102.0, 'Released', 'Some secrets are too big to keep.', 6.2, 679),\n",
       " (297761, 'Suicide Squad', '2016-08-02 00:00:00.000000', 175000000, 'http://www.suicidesquad.com/', 'en', 'Suicide Squad', 'From DC Comics comes the Suicide Squad, an antihero team of incarcerated supervillains who act as deniable assets for the United States government, undertaking high-risk black ops missions in exchange for commuted prison sentences.', 90.23792, 745000000.0, 123.0, 'Released', 'Worst Heroes Ever', 5.9, 7458)]"
      ]
     },
     "execution_count": 4,
     "metadata": {},
     "output_type": "execute_result"
    }
   ],
   "source": [
    "%%sql\n",
    "\n",
    "SELECT *\n",
    "FROM movies\n",
    "WHERE release_date IS NOT NULL\n",
    "ORDER BY release_date DESC\n",
    "LIMIT 10;"
   ]
  },
  {
   "cell_type": "markdown",
   "id": "79dc3d5f",
   "metadata": {},
   "source": [
    "### Question 3\n",
    "\n",
    "How many unique awards are there in the Oscars table?\n",
    "\n",
    "**Options:**\n",
    " - 141\n",
    " - 53 \n",
    " - 80\n",
    " - 114"
   ]
  },
  {
   "cell_type": "code",
   "execution_count": 5,
   "id": "f4621a53",
   "metadata": {},
   "outputs": [
    {
     "name": "stdout",
     "output_type": "stream",
     "text": [
      " * sqlite:///TMDB.db\n",
      "Done.\n"
     ]
    },
    {
     "data": {
      "text/html": [
       "<table>\n",
       "    <thead>\n",
       "        <tr>\n",
       "            <th>distinct_award</th>\n",
       "        </tr>\n",
       "    </thead>\n",
       "    <tbody>\n",
       "        <tr>\n",
       "            <td>114</td>\n",
       "        </tr>\n",
       "    </tbody>\n",
       "</table>"
      ],
      "text/plain": [
       "[(114,)]"
      ]
     },
     "execution_count": 5,
     "metadata": {},
     "output_type": "execute_result"
    }
   ],
   "source": [
    "%%sql\n",
    "\n",
    "SELECT count(DISTINCT award) as distinct_award\n",
    "FROM oscars;"
   ]
  },
  {
   "cell_type": "markdown",
   "id": "a8b06373",
   "metadata": {},
   "source": [
    "### Question 4\n",
    "\n",
    "How many movies are there that contain the word “Spider” within their title?\n",
    "\n",
    "**Options:**\n",
    " - 0\n",
    " - 5\n",
    " - 1\n",
    " - 9"
   ]
  },
  {
   "cell_type": "code",
   "execution_count": 6,
   "id": "1e003247",
   "metadata": {},
   "outputs": [
    {
     "name": "stdout",
     "output_type": "stream",
     "text": [
      " * sqlite:///TMDB.db\n",
      "Done.\n"
     ]
    },
    {
     "data": {
      "text/html": [
       "<table>\n",
       "    <thead>\n",
       "        <tr>\n",
       "            <th>distinct_titles</th>\n",
       "        </tr>\n",
       "    </thead>\n",
       "    <tbody>\n",
       "        <tr>\n",
       "            <td>9</td>\n",
       "        </tr>\n",
       "    </tbody>\n",
       "</table>"
      ],
      "text/plain": [
       "[(9,)]"
      ]
     },
     "execution_count": 6,
     "metadata": {},
     "output_type": "execute_result"
    }
   ],
   "source": [
    "%%sql\n",
    "\n",
    "SELECT count(DISTINCT title) as distinct_titles \n",
    "FROM movies\n",
    "WHERE title\n",
    "LIKE '%spider%';"
   ]
  },
  {
   "cell_type": "markdown",
   "id": "2f77c5bd",
   "metadata": {},
   "source": [
    "### Question 5\n",
    "\n",
    "How many movies are there that are both in the \"Thriller\" genre and contain the word “love” anywhere in the keywords?\n",
    "\n",
    "\n",
    "**Options:**\n",
    " - 48\n",
    " - 38\n",
    " - 14\n",
    " - 1"
   ]
  },
  {
   "cell_type": "code",
   "execution_count": 7,
   "id": "abc5146c",
   "metadata": {},
   "outputs": [
    {
     "name": "stdout",
     "output_type": "stream",
     "text": [
      " * sqlite:///TMDB.db\n",
      "(sqlite3.OperationalError) unrecognized token: \"#\"\n",
      "[SQL: # Add your code here]\n",
      "(Background on this error at: https://sqlalche.me/e/14/e3q8)\n"
     ]
    }
   ],
   "source": [
    "%%sql\n",
    "# Add your code here"
   ]
  },
  {
   "cell_type": "markdown",
   "id": "8c6e82eb",
   "metadata": {},
   "source": [
    "### Question 6\n",
    "\n",
    "How many movies are there that were released between 1 August 2006 ('2006-08-01') and 1 October 2009 ('2009-10-01') that have a popularity score of more than 40 and a budget of less than 50 000 000?\n",
    "\n",
    " \n",
    "**Options:**\n",
    "\n",
    " - 29\n",
    " - 23\n",
    " - 28\n",
    " - 35"
   ]
  },
  {
   "cell_type": "code",
   "execution_count": 8,
   "id": "e8de6542",
   "metadata": {},
   "outputs": [
    {
     "name": "stdout",
     "output_type": "stream",
     "text": [
      " * sqlite:///TMDB.db\n",
      "Done.\n"
     ]
    },
    {
     "data": {
      "text/html": [
       "<table>\n",
       "    <thead>\n",
       "        <tr>\n",
       "            <th>count(title)</th>\n",
       "        </tr>\n",
       "    </thead>\n",
       "    <tbody>\n",
       "        <tr>\n",
       "            <td>29</td>\n",
       "        </tr>\n",
       "    </tbody>\n",
       "</table>"
      ],
      "text/plain": [
       "[(29,)]"
      ]
     },
     "execution_count": 8,
     "metadata": {},
     "output_type": "execute_result"
    }
   ],
   "source": [
    "%%sql\n",
    "\n",
    "SELECT count(title)\n",
    "FROM movies\n",
    "WHERE release_date BETWEEN '2006-08-01' AND '2009-10-01'\n",
    "AND popularity > 40\n",
    "AND budget < 50000000;"
   ]
  },
  {
   "cell_type": "markdown",
   "id": "cf0d12b1",
   "metadata": {},
   "source": [
    "### Question 7\n",
    "\n",
    "How many unique characters has \"Vin Diesel\" played so far in the database?\n",
    "\n",
    "**Options:**\n",
    " - 24\n",
    " - 19\n",
    " - 18\n",
    " - 16"
   ]
  },
  {
   "cell_type": "code",
   "execution_count": 9,
   "id": "cc1eecb5",
   "metadata": {},
   "outputs": [
    {
     "name": "stdout",
     "output_type": "stream",
     "text": [
      " * sqlite:///TMDB.db\n",
      "Done.\n"
     ]
    },
    {
     "data": {
      "text/html": [
       "<table>\n",
       "    <thead>\n",
       "        <tr>\n",
       "            <th>COUNT(characters)</th>\n",
       "        </tr>\n",
       "    </thead>\n",
       "    <tbody>\n",
       "        <tr>\n",
       "            <td>19</td>\n",
       "        </tr>\n",
       "    </tbody>\n",
       "</table>"
      ],
      "text/plain": [
       "[(19,)]"
      ]
     },
     "execution_count": 9,
     "metadata": {},
     "output_type": "execute_result"
    }
   ],
   "source": [
    "%%sql\n",
    "\n",
    "SELECT COUNT(characters)\n",
    "FROM casts AS C\n",
    "INNER JOIN actors AS A\n",
    "ON C.actor_id = A.actor_id\n",
    "WHERE A.actor_name = 'Vin Diesel';"
   ]
  },
  {
   "cell_type": "markdown",
   "id": "297fc8b8",
   "metadata": {},
   "source": [
    "### Question 8\n",
    "\n",
    "What are the genres of the movie “The Royal Tenenbaums”?\n",
    "\n",
    "\n",
    "**Options:**\n",
    " - Action, Romance\n",
    " - Drama, Comedy\n",
    " - Crime, Thriller\n",
    " - Drama, Romance"
   ]
  },
  {
   "cell_type": "code",
   "execution_count": 10,
   "id": "e2ad1e00",
   "metadata": {},
   "outputs": [
    {
     "name": "stdout",
     "output_type": "stream",
     "text": [
      " * sqlite:///TMDB.db\n",
      "Done.\n"
     ]
    },
    {
     "data": {
      "text/html": [
       "<table>\n",
       "    <thead>\n",
       "        <tr>\n",
       "            <th>genre_name</th>\n",
       "        </tr>\n",
       "    </thead>\n",
       "    <tbody>\n",
       "        <tr>\n",
       "            <td>Drama</td>\n",
       "        </tr>\n",
       "        <tr>\n",
       "            <td>Comedy</td>\n",
       "        </tr>\n",
       "    </tbody>\n",
       "</table>"
      ],
      "text/plain": [
       "[('Drama',), ('Comedy',)]"
      ]
     },
     "execution_count": 10,
     "metadata": {},
     "output_type": "execute_result"
    }
   ],
   "source": [
    "%%sql\n",
    "\n",
    "SELECT genre_name\n",
    "FROM genres AS G\n",
    "LEFT JOIN genremap AS GM\n",
    "ON G.genre_id = GM.genre_id\n",
    "LEFT JOIN movies AS M\n",
    "ON GM.movie_id = M.movie_id\n",
    "WHERE M.title = 'The Royal Tenenbaums';"
   ]
  },
  {
   "cell_type": "markdown",
   "id": "d3ed71a0",
   "metadata": {},
   "source": [
    "### Question 9\n",
    "\n",
    "What are the three production companies that have the highest movie popularity score on average, as recorded within the database?\n",
    "\n",
    "\n",
    "**Options:**\n",
    "\n",
    " - MCL Films S.A., Turner Pictures, and George Stevens Productions\n",
    " - The Donners' Company, Bulletproof Cupid, and Kinberg Genre\n",
    " - Bulletproof Cupid, The Donners' Company, and MCL Films S.A\n",
    " - B.Sting Entertainment, Illumination Pictures, and Aztec Musique"
   ]
  },
  {
   "cell_type": "code",
   "execution_count": 11,
   "id": "92d65440",
   "metadata": {},
   "outputs": [
    {
     "name": "stdout",
     "output_type": "stream",
     "text": [
      " * sqlite:///TMDB.db\n",
      "Done.\n"
     ]
    },
    {
     "data": {
      "text/html": [
       "<table>\n",
       "    <thead>\n",
       "        <tr>\n",
       "            <th>production_company_name</th>\n",
       "            <th>popularity</th>\n",
       "            <th>avg_pop</th>\n",
       "        </tr>\n",
       "    </thead>\n",
       "    <tbody>\n",
       "        <tr>\n",
       "            <td>The Donners&#x27; Company</td>\n",
       "            <td>514.569956</td>\n",
       "            <td>514.569956</td>\n",
       "        </tr>\n",
       "        <tr>\n",
       "            <td>Bulletproof Cupid</td>\n",
       "            <td>481.098624</td>\n",
       "            <td>481.098624</td>\n",
       "        </tr>\n",
       "        <tr>\n",
       "            <td>Kinberg Genre</td>\n",
       "            <td>139.272042</td>\n",
       "            <td>326.92099900000005</td>\n",
       "        </tr>\n",
       "    </tbody>\n",
       "</table>"
      ],
      "text/plain": [
       "[(\"The Donners' Company\", 514.569956, 514.569956),\n",
       " ('Bulletproof Cupid', 481.098624, 481.098624),\n",
       " ('Kinberg Genre', 139.272042, 326.92099900000005)]"
      ]
     },
     "execution_count": 11,
     "metadata": {},
     "output_type": "execute_result"
    }
   ],
   "source": [
    "%%sql\n",
    "\n",
    "SELECT production_company_name,\n",
    "       popularity,\n",
    "       AVG(popularity) OVER (PARTITION BY production_company_name)\n",
    " AS avg_pop\n",
    "FROM productioncompanies AS PC\n",
    "LEFT JOIN productioncompanymap AS PCM\n",
    "ON PC.production_company_id = PCM.production_company_id\n",
    "JOIN movies AS M\n",
    "ON PCM.movie_id = M.movie_id\n",
    "ORDER BY avg_pop DESC\n",
    "LIMIT 3;"
   ]
  },
  {
   "cell_type": "markdown",
   "id": "d892dcac",
   "metadata": {},
   "source": [
    "### Question 10\n",
    "\n",
    "How many female actors (i.e. gender = 1) have a name that starts with the letter \"N\"?\n",
    "\n",
    "\n",
    "**Options:**\n",
    "\n",
    " - 0\n",
    " - 355\n",
    " - 7335\n",
    " - 1949"
   ]
  },
  {
   "cell_type": "code",
   "execution_count": 12,
   "id": "4bca2942",
   "metadata": {},
   "outputs": [
    {
     "name": "stdout",
     "output_type": "stream",
     "text": [
      " * sqlite:///TMDB.db\n",
      "Done.\n"
     ]
    },
    {
     "data": {
      "text/html": [
       "<table>\n",
       "    <thead>\n",
       "        <tr>\n",
       "            <th>count(gender)</th>\n",
       "        </tr>\n",
       "    </thead>\n",
       "    <tbody>\n",
       "        <tr>\n",
       "            <td>355</td>\n",
       "        </tr>\n",
       "    </tbody>\n",
       "</table>"
      ],
      "text/plain": [
       "[(355,)]"
      ]
     },
     "execution_count": 12,
     "metadata": {},
     "output_type": "execute_result"
    }
   ],
   "source": [
    "%%sql\n",
    "\n",
    "SELECT count(gender)\n",
    "FROM actors\n",
    "WHERE actor_name\n",
    "LIKE 'N%'\n",
    "AND gender = 1;"
   ]
  },
  {
   "cell_type": "markdown",
   "id": "7ea65b50",
   "metadata": {},
   "source": [
    "### Question 11\n",
    "\n",
    "Which genre has, on average, the lowest movie popularity score? \n",
    "\n",
    "\n",
    "**Options:**\n",
    "\n",
    " - Science Fiction\n",
    " - Animation\n",
    " - Documentary\n",
    " - Foreign"
   ]
  },
  {
   "cell_type": "code",
   "execution_count": 13,
   "id": "e3a55c56",
   "metadata": {},
   "outputs": [
    {
     "name": "stdout",
     "output_type": "stream",
     "text": [
      " * sqlite:///TMDB.db\n",
      "Done.\n"
     ]
    },
    {
     "data": {
      "text/html": [
       "<table>\n",
       "    <thead>\n",
       "        <tr>\n",
       "            <th>genre_name</th>\n",
       "            <th>popularity</th>\n",
       "            <th>avg_pop</th>\n",
       "        </tr>\n",
       "    </thead>\n",
       "    <tbody>\n",
       "        <tr>\n",
       "            <td>Foreign</td>\n",
       "            <td>2.787375</td>\n",
       "            <td>0.686786794117647</td>\n",
       "        </tr>\n",
       "    </tbody>\n",
       "</table>"
      ],
      "text/plain": [
       "[('Foreign', 2.787375, 0.686786794117647)]"
      ]
     },
     "execution_count": 13,
     "metadata": {},
     "output_type": "execute_result"
    }
   ],
   "source": [
    "%%sql\n",
    "\n",
    "SELECT genre_name,\n",
    "       popularity,\n",
    "       AVG(popularity) OVER (PARTITION BY genre_name)\n",
    "AS avg_pop\n",
    "FROM genres AS G\n",
    "LEFT JOIN genremap AS GM\n",
    "ON G.genre_id = GM.genre_id\n",
    "JOIN movies AS M\n",
    "ON GM.movie_id = M.movie_id\n",
    "ORDER BY avg_pop \n",
    "LIMIT 1;"
   ]
  },
  {
   "cell_type": "markdown",
   "id": "3769de93",
   "metadata": {},
   "source": [
    "### Question 12\n",
    "\n",
    "Which award category has the highest number of actor nominations (actors can be male or female)? (Hint: `Oscars.name` contains both actors' names and film names.)\n",
    "\n",
    "**Options:**\n",
    "\n",
    "- Special Achievement Award\n",
    "- Actor in a Supporting Role\n",
    "- Actress in a Supporting Role\n",
    "- Best Picture\n",
    "\n"
   ]
  },
  {
   "cell_type": "code",
   "execution_count": 21,
   "id": "570b5518-3cc2-41b4-b2fc-e467daf94fa6",
   "metadata": {},
   "outputs": [
    {
     "name": "stdout",
     "output_type": "stream",
     "text": [
      " * sqlite:///TMDB.db\n",
      "Done.\n"
     ]
    },
    {
     "data": {
      "text/html": [
       "<table>\n",
       "    <thead>\n",
       "        <tr>\n",
       "            <th>award</th>\n",
       "            <th>nomination_count</th>\n",
       "        </tr>\n",
       "    </thead>\n",
       "    <tbody>\n",
       "        <tr>\n",
       "            <td>Actor in a Supporting Role</td>\n",
       "            <td>356</td>\n",
       "        </tr>\n",
       "    </tbody>\n",
       "</table>"
      ],
      "text/plain": [
       "[('Actor in a Supporting Role', 356)]"
      ]
     },
     "execution_count": 21,
     "metadata": {},
     "output_type": "execute_result"
    }
   ],
   "source": [
    "%%sql\n",
    "\n",
    "SELECT award,\n",
    "    count(*) AS nomination_count\n",
    "FROM oscars o\n",
    "INNER JOIN actors a\n",
    "    ON o.name = a.actor_name\n",
    "GROUP BY award\n",
    "ORDER BY nomination_count DESC\n",
    "LIMIT 1;"
   ]
  },
  {
   "cell_type": "markdown",
   "id": "c80a7c0c",
   "metadata": {},
   "source": [
    "### Question 13\n",
    "\n",
    "For all of the entries in the Oscars table before 1934, the year is stored differently than in all the subsequent years. For example, the year would be saved as “1932/1933” instead of just “1933” (the second indicated year).  Which of the following options would be the appropriate code to update this column to have the format of the year be consistent throughout the entire table (second indicated year only shown)?\n",
    "\n",
    "\n",
    "**Options:**\n",
    "\n",
    "- `UPDATE Oscars SET year = RIGHT(year, -4)`\n",
    "- `UPDATE Oscars SET year = SELECT substr(year, -4)`\n",
    "- `UPDATE Oscars SET year = substr(year, -4)`\n",
    "- `UPDATE Oscars year =  substr(year, 4)`"
   ]
  },
  {
   "cell_type": "code",
   "execution_count": 15,
   "id": "6220bb09",
   "metadata": {},
   "outputs": [
    {
     "name": "stdout",
     "output_type": "stream",
     "text": [
      " * sqlite:///TMDB.db\n",
      "9964 rows affected.\n"
     ]
    },
    {
     "data": {
      "text/plain": [
       "[]"
      ]
     },
     "execution_count": 15,
     "metadata": {},
     "output_type": "execute_result"
    }
   ],
   "source": [
    "%%sql\n",
    "\n",
    "UPDATE Oscars\n",
    "SET year = substr(year, -4);"
   ]
  },
  {
   "cell_type": "markdown",
   "id": "a7d73885",
   "metadata": {},
   "source": [
    "### Question 14\n",
    "\n",
    "DStv will be having a special week dedicated to the actor Alan Rickman. Which of the following queries would create a new _view_ that shows the titles, release dates, taglines, and overviews of all movies that Alan Rickman has played in?\n",
    "\n",
    "\n",
    "\n",
    "**Options:**\n",
    "\n",
    "- SELECT title, release_date, tagline, overview \n",
    "FROM Movies LEFT JOIN Casts ON Casts.movie_id = Movies.movie_id Left JOIN Actors ON Casts.actor_id = Actors.actor_id \n",
    "WHERE Actors.actor_name = 'Alan Rickman'\n",
    "AS VIEW Alan_Rickman_Movies\n",
    "\n",
    "- CREATE VIEW Alan_Rickman_Movies AS  \n",
    "SELECT title, release_date, tagline, overview FROM Movies  \n",
    "LEFT JOIN Casts ON Casts.movie_id = Movies.movie_id Left JOIN Actors\n",
    "ON Casts.actor_id = Actors.actor_id\n",
    "WHERE Actors.actor_name = 'Alan Rickman' \n",
    "\n",
    "\n",
    "- CREATE NEW VIEW  Name  = Alan_Rickman_Movies AS SELECT title, release_date, tagline, overview FROM Movies LEFT JOIN Casts ON Casts.movie_id = Movies.movie_id Left JOIN Actors ON Casts.actor_id = Actors.actor_id WHERE Actors.actor_name = 'Alan Rickman'\n",
    "\n",
    "- VIEW Alan_Rickman_Movies AS SELECT title, release_date, tagline, overview FROM Movies LEFT JOIN Casts ON Casts.movie_id = Movies.movie_id Left JOIN Actors ON Casts.actor_id = Actors.actor_id WHERE Actors.actor_name = 'Alan Rickman'"
   ]
  },
  {
   "cell_type": "code",
   "execution_count": 16,
   "id": "f9b82bc6",
   "metadata": {},
   "outputs": [
    {
     "name": "stdout",
     "output_type": "stream",
     "text": [
      " * sqlite:///TMDB.db\n",
      "(sqlite3.OperationalError) view Alan_Rickman_Movies already exists\n",
      "[SQL: CREATE VIEW Alan_Rickman_Movies AS  \n",
      "SELECT title, release_date, tagline, overview FROM Movies  \n",
      "LEFT JOIN Casts ON Casts.movie_id = Movies.movie_id Left JOIN Actors\n",
      "ON Casts.actor_id = Actors.actor_id\n",
      "WHERE Actors.actor_name = 'Alan Rickman']\n",
      "(Background on this error at: https://sqlalche.me/e/14/e3q8)\n"
     ]
    }
   ],
   "source": [
    "%%sql\n",
    "\n",
    "\n",
    "CREATE VIEW Alan_Rickman_Movies AS  \n",
    "SELECT title, release_date, tagline, overview FROM Movies  \n",
    "LEFT JOIN Casts ON Casts.movie_id = Movies.movie_id Left JOIN Actors\n",
    "ON Casts.actor_id = Actors.actor_id\n",
    "WHERE Actors.actor_name = 'Alan Rickman'"
   ]
  },
  {
   "cell_type": "markdown",
   "id": "42e9915e",
   "metadata": {},
   "source": [
    "### Question 15\n",
    "\n",
    "Which of the statements about database normalisation are true?\n",
    "\n",
    "**Statements:**\n",
    " \n",
    "i) Database normalisation improves data redundancy, saves on storage space, and fulfils the requirement of records to be uniquely identified.\n",
    "\n",
    "ii) Database normalisation supports up to the Third Normal Form and removes all data anomalies.\n",
    "\n",
    "iii) Database normalisation removes inconsistencies that may cause the analysis of our data to be more complicated.\n",
    "\n",
    "iv) Database normalisation increases data redundancy, saves on storage space, and fulfils the requirement of records to be uniquely identified.\n",
    "\n",
    "**Options:**\n",
    "\n",
    " - (i) and (ii)\n",
    " - (i) and (iii)\n",
    " - (ii) and (iv)\n",
    " - (iii) and (iv)"
   ]
  },
  {
   "cell_type": "code",
   "execution_count": null,
   "id": "5cbb5710-3a3d-4d5a-9673-e2b97d098d43",
   "metadata": {},
   "outputs": [],
   "source": []
  }
 ],
 "metadata": {
  "kernelspec": {
   "display_name": "Python 3 (ipykernel)",
   "language": "python",
   "name": "python3"
  },
  "language_info": {
   "codemirror_mode": {
    "name": "ipython",
    "version": 3
   },
   "file_extension": ".py",
   "mimetype": "text/x-python",
   "name": "python",
   "nbconvert_exporter": "python",
   "pygments_lexer": "ipython3",
   "version": "3.12.4"
  }
 },
 "nbformat": 4,
 "nbformat_minor": 5
}
